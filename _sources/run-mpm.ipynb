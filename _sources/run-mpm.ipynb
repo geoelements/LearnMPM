{
 "cells": [
  {
   "cell_type": "markdown",
   "id": "4efabb5e",
   "metadata": {},
   "source": [
    "# CB-Geo MPM \n",
    "> Krishna Kumar, UT Austin\n",
    "\n",
    "## Run\n",
    "This example shows how to run CB-Geo MPM."
   ]
  },
  {
   "cell_type": "code",
   "execution_count": 1,
   "id": "cfebc44c-8879-4fbf-b8ab-2523b3ff25ad",
   "metadata": {},
   "outputs": [],
   "source": [
    "# Define paths on DesignSafe\n",
    "import os\n",
    "\n",
    "def fetch_input_uri(cur_dir):\n",
    "    if ('jupyter/MyData' in cur_dir ):\n",
    "        cur_dir = cur_dir.split('MyData').pop() \n",
    "        storage_id = 'designsafe.storage.default'\n",
    "        input_dir = ag.profiles.get()['username']+ cur_dir\n",
    "        input_uri = 'agave://{}//{}'.format(storage_id,input_dir)\n",
    "        input_uri = input_uri.replace(\" \",\"%20\")\n",
    "    elif('jupyter/mydata' in cur_dir ):\n",
    "        cur_dir = cur_dir.split('mydata').pop()\n",
    "        storage_id = 'designsafe.storage.default'\n",
    "        input_dir = ag.profiles.get()['username']+ cur_dir\n",
    "        input_uri = 'agave://{}//{}'.format(storage_id,input_dir)\n",
    "        input_uri = input_uri.replace(\" \",\"%20\")\n",
    "    elif('jupyter/MyProjects' in cur_dir):\n",
    "        cur_dir = cur_dir.split('MyProjects/').pop()\n",
    "        PRJ = cur_dir.split('/')[0]\n",
    "        qq = {\"value.projectId\": str(PRJ)}\n",
    "        cur_dir = cur_dir.split(PRJ).pop()\n",
    "        project_uuid = ag.meta.listMetadata(q=str(qq))[0][\"uuid\"]\n",
    "        input_dir = cur_dir\n",
    "        input_uri = 'agave://project-{}{}'.format(project_uuid,cur_dir)\n",
    "        input_uri = input_uri.replace(\" \",\"%20\")\n",
    "    elif('jupyter/CommunityData' in cur_dir):\n",
    "        cur_dir = cur_dir.split('jupyter/CommunityData').pop() \n",
    "        input_dir = cur_dir\n",
    "        input_uri = 'agave://designsafe.storage.community/{}'.format(input_dir)\n",
    "        input_uri = input_uri.replace(\" \",\"%20\")\n",
    "    return input_uri"
   ]
  },
  {
   "cell_type": "code",
   "execution_count": 2,
   "id": "0153c5cc-f4b9-460b-b4c6-d92eb8c6ede5",
   "metadata": {},
   "outputs": [
    {
     "name": "stdout",
     "output_type": "stream",
     "text": [
      "{'name': 'mpm', 'appId': 'mpm-1.0.0', 'batchQueue': 'skx-dev', 'nodeCount': 1, 'processorsPerNode': 1, 'memoryPerNode': '1', 'maxRunTime': '00:10:00', 'archive': True, 'inputs': {'inputDirectory': ['agave://designsafe.storage.default//kks32/mpm-benchmarks/2d/uniaxial_stress']}, 'parameters': {'inputfile': ['mpm.json']}}\n"
     ]
    }
   ],
   "source": [
    "# Configure job submission scripts\n",
    "from agavepy.agave import Agave\n",
    "ag = Agave.restore()\n",
    "import os\n",
    "\n",
    "# ---------------------------------------------------------------------------------\n",
    "#Select tapis-app\n",
    "app_name   = 'mpm'\n",
    "#app_id    = 'opensees-docker-2.5.0.6248u11'  # if using old opensees-docker-2.5.0\n",
    "app_id     = 'mpm-1.0.0'\n",
    "storage_id = 'designsafe.storage.default'\n",
    "\n",
    "# ---------------------------------------------------------------------------------\n",
    "# Define control tapis-app variables\n",
    "control_batchQueue       = 'skx-dev'\n",
    "control_jobname          = 'mpm'\n",
    "control_nodenumber       = '1'\n",
    "control_processorsnumber = '1'\n",
    "control_memorypernode    = '1'\n",
    "control_maxRunTime       = '00:10:00'\n",
    "    \n",
    "# Set input directory\n",
    "input_uri = 'agave://designsafe.storage.default//kks32/mpm-benchmarks/2d/uniaxial_stress' #fetch_input_uri(os.getcwd())\n",
    "inputs = {\"inputDirectory\": [ input_uri ]}\n",
    "input_filename = 'mpm.json'\n",
    "parameters = {\"inputfile\" : [input_filename]}\n",
    "\n",
    "# Identify folder with input file in DesignSafe\n",
    "cur_dir = os.getcwd()\n",
    "\n",
    "# ===============================================================================\n",
    "# Define job description\n",
    "app = ag.apps.get(appId=app_id)\n",
    "job_description = {}\n",
    "job_description[\"name\"]              = (control_jobname)\n",
    "job_description[\"appId\"]             = (app_id)\n",
    "job_description[\"batchQueue\"]        = (control_batchQueue)\n",
    "job_description[\"nodeCount\"]         = int(control_nodenumber)\n",
    "job_description[\"processorsPerNode\"] = int(control_processorsnumber)\n",
    "job_description[\"memoryPerNode\"]     = (control_memorypernode)\n",
    "job_description[\"maxRunTime\"]        = control_maxRunTime\n",
    "job_description[\"archive\"]           = True\n",
    "job_description[\"inputs\"]            = inputs\n",
    "job_description[\"parameters\"]        = parameters\n",
    "print(job_description)"
   ]
  },
  {
   "cell_type": "markdown",
   "id": "9851e692-2ba8-4cb0-887f-b639ba8832d2",
   "metadata": {},
   "source": [
    "## Submit and monitor job status"
   ]
  },
  {
   "cell_type": "code",
   "execution_count": 3,
   "id": "4e6dc010-d821-45d5-805b-84620363f468",
   "metadata": {},
   "outputs": [
    {
     "name": "stdout",
     "output_type": "stream",
     "text": [
      " Job launched. Status provided below\n",
      " Can also check in DesignSafe portal under - Workspace > Tools & Application > Job Status\n",
      "Status: PROCESSING_INPUTS\n",
      "Status: STAGING_JOB\n",
      "Status: QUEUED\n",
      "Status: RUNNING\n",
      "Status: RUNNING\n",
      "Status: RUNNING\n",
      "Status: RUNNING\n",
      "Status: RUNNING\n",
      "Status: RUNNING\n",
      "Status: ARCHIVING\n",
      "Status: FINISHED\n"
     ]
    }
   ],
   "source": [
    "# Submit and monitor job\n",
    "import time\n",
    "job = ag.jobs.submit(body=job_description)\n",
    "print(\" Job launched. Status provided below\")\n",
    "print(\" Can also check in DesignSafe portal under - Workspace > Tools & Application > Job Status\")\n",
    "\n",
    "status = ag.jobs.getStatus(jobId=job[\"id\"])[\"status\"]\n",
    "while status != \"FINISHED\":\n",
    "    status = ag.jobs.getStatus(jobId=job[\"id\"])[\"status\"]\n",
    "    print(f\"Status: {status}\")\n",
    "    time.sleep(10)\n",
    "    if status == \"FAILED\":\n",
    "        break"
   ]
  },
  {
   "cell_type": "markdown",
   "id": "e69a8b04-175f-40f2-97f5-d04e43c2c50b",
   "metadata": {},
   "source": [
    "## Job archive folder location"
   ]
  },
  {
   "cell_type": "code",
   "execution_count": 4,
   "id": "03cd4f29-c2d5-4c04-9a8d-861feaa4db62",
   "metadata": {},
   "outputs": [],
   "source": [
    "jobinfo = ag.jobs.get(jobId=job.id)\n",
    "jobinfo.archivePath\n",
    "user = jobinfo.archivePath.split('/', 1)[0]"
   ]
  },
  {
   "cell_type": "code",
   "execution_count": 5,
   "id": "126de16d-35f6-480e-a50b-e0a239c5e52a",
   "metadata": {},
   "outputs": [
    {
     "data": {
      "text/plain": [
       "'kks32/archive/jobs/job-3f43f709-bc68-4c04-a576-67d5856e152d-007'"
      ]
     },
     "execution_count": 5,
     "metadata": {},
     "output_type": "execute_result"
    }
   ],
   "source": [
    "jobinfo.archivePath"
   ]
  },
  {
   "cell_type": "code",
   "execution_count": 6,
   "id": "16964b03-3964-4148-b3cc-836c6f42ae5e",
   "metadata": {},
   "outputs": [
    {
     "name": "stdout",
     "output_type": "stream",
     "text": [
      "/home/jupyter/MyData/archive/jobs/job-3f43f709-bc68-4c04-a576-67d5856e152d-007\n"
     ]
    }
   ],
   "source": [
    "path = jobinfo.archivePath.replace(user,'/home/jupyter/MyData')\n",
    "print(path)\n",
    "os.chdir(path)"
   ]
  },
  {
   "cell_type": "markdown",
   "id": "ae92395c-d34e-4848-b82e-c567ddf6380c",
   "metadata": {},
   "source": [
    "# Post processing"
   ]
  },
  {
   "cell_type": "code",
   "execution_count": 7,
   "id": "cf17a747-913d-426a-98db-91488c17ca52",
   "metadata": {},
   "outputs": [],
   "source": [
    "os.chdir('./uniaxial_stress/results/uniaxial-stress-2d-usf/')"
   ]
  },
  {
   "cell_type": "code",
   "execution_count": 8,
   "id": "bc0d787e-a6cc-41cb-96fa-011657cbfb35",
   "metadata": {},
   "outputs": [
    {
     "data": {
      "text/plain": [
       "'/home/jupyter/MyData/archive/jobs/job-3f43f709-bc68-4c04-a576-67d5856e152d-007/uniaxial_stress/results/uniaxial-stress-2d-usf'"
      ]
     },
     "execution_count": 8,
     "metadata": {},
     "output_type": "execute_result"
    }
   ],
   "source": [
    "%pwd"
   ]
  },
  {
   "cell_type": "code",
   "execution_count": 9,
   "id": "8e06fbc3-6d8c-415e-91d4-afd2f8636e35",
   "metadata": {},
   "outputs": [],
   "source": [
    "!pip3 install tables --quiet"
   ]
  },
  {
   "cell_type": "markdown",
   "id": "a6db1426-5b4f-4f03-8c29-a6c9d7175578",
   "metadata": {},
   "source": [
    "To read a particles HDF5 data, for example `particles09.h5` at step 9:"
   ]
  },
  {
   "cell_type": "code",
   "execution_count": 10,
   "id": "e665ddf5-1524-493f-983a-7521df06e79d",
   "metadata": {},
   "outputs": [
    {
     "name": "stdout",
     "output_type": "stream",
     "text": [
      "['id', 'mass', 'volume', 'pressure', 'coord_x', 'coord_y', 'coord_z', 'displacement_x', 'displacement_y', 'displacement_z', 'nsize_x', 'nsize_y', 'nsize_z', 'velocity_x', 'velocity_y', 'velocity_z', 'stress_xx', 'stress_yy', 'stress_zz', 'tau_xy', 'tau_yz', 'tau_xz', 'strain_xx', 'strain_yy', 'strain_zz', 'gamma_xy', 'gamma_yz', 'gamma_xz', 'epsilon_v', 'cell_id', 'status', 'material_id', 'nstate_vars', 'svars_0', 'svars_1', 'svars_2', 'svars_3', 'svars_4', 'svars_5', 'svars_6', 'svars_7', 'svars_8', 'svars_9', 'svars_10', 'svars_11', 'svars_12', 'svars_13', 'svars_14', 'svars_15', 'svars_16', 'svars_17', 'svars_18', 'svars_19']\n"
     ]
    }
   ],
   "source": [
    "# Read HDF5 data\n",
    "# !pip3 install pandas\n",
    "import pandas as pd\n",
    "df = pd.read_hdf('particles09.h5', 'table')\n",
    "# Print column headers\n",
    "print(list(df))"
   ]
  },
  {
   "cell_type": "code",
   "execution_count": 11,
   "id": "74b06207-5b31-4c79-8adc-cc3ce1c47777",
   "metadata": {},
   "outputs": [
    {
     "name": "stdout",
     "output_type": "stream",
     "text": [
      "/home/jupyter/MyData/archive/jobs/job-3f43f709-bc68-4c04-a576-67d5856e152d-007/uniaxial_stress/results/uniaxial-stress-2d-usf\n"
     ]
    }
   ],
   "source": [
    "!pwd"
   ]
  },
  {
   "cell_type": "code",
   "execution_count": 12,
   "id": "730ab45e-3940-472c-a3c0-424875dbe090",
   "metadata": {},
   "outputs": [
    {
     "name": "stdout",
     "output_type": "stream",
     "text": [
      "   velocity_x  velocity_y  velocity_z\n",
      "0         0.0         0.0         0.0\n",
      "1         0.0         0.0         0.0\n",
      "2         0.0         0.0         0.0\n",
      "3         0.0         0.0         0.0\n"
     ]
    }
   ],
   "source": [
    "# Print all velocities\n",
    "print(df[['velocity_x', 'velocity_y','velocity_z']])"
   ]
  },
  {
   "cell_type": "markdown",
   "id": "e143fc3f-3aa4-4e6c-a69b-762cd348c809",
   "metadata": {},
   "source": [
    "## Extract results \n",
    "> Evaluate the maximum stress in YY direction should be -1 Pa."
   ]
  },
  {
   "cell_type": "code",
   "execution_count": 13,
   "id": "be52d314-4524-4e36-ab5a-0ee7116cc656",
   "metadata": {},
   "outputs": [
    {
     "name": "stdout",
     "output_type": "stream",
     "text": [
      "Maximum σ_yy: -0.9999999999999999\n",
      "Minimum σ_xx: 0.0\n"
     ]
    }
   ],
   "source": [
    "print(\"Maximum σ_yy: {}\".format(df['stress_yy'].max()))\n",
    "print(\"Minimum σ_xx: {}\".format(df['stress_xx'].min()))"
   ]
  }
 ],
 "metadata": {
  "IMAGE_NAME": "taccsciapps/ds-nb-img:base-0.1.2",
  "UUID": "ad99fe82-d690-11ec-8bc3-165d4cd45074",
  "kernelspec": {
   "display_name": "Python 3 (ipykernel)",
   "language": "python",
   "name": "python3"
  },
  "language_info": {
   "codemirror_mode": {
    "name": "ipython",
    "version": 3
   },
   "file_extension": ".py",
   "mimetype": "text/x-python",
   "name": "python",
   "nbconvert_exporter": "python",
   "pygments_lexer": "ipython3",
   "version": "3.9.10"
  }
 },
 "nbformat": 4,
 "nbformat_minor": 5
}
